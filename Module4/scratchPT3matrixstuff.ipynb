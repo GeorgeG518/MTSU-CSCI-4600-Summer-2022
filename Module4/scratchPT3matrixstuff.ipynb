{
 "cells": [
  {
   "cell_type": "markdown",
   "id": "7b6f7a68",
   "metadata": {},
   "source": [
    "# Matrix operations\n",
    "https://docs.julialang.org/en/v1/stdlib/LinearAlgebra/\n",
    "As a review, you can allocate matrices like this:\n",
    "```julia\n",
    "b=[[1,2,3] [4,5,6] [7,8,9]] # Matrix, but explicit column major\n",
    "println(b)\n",
    "```\n",
    "\n",
    "or like this:\n",
    "```julia\n",
    "A = [1 2 3; 4 1 6; 7 8 1] # matrix, but stored how they appear\n",
    "```\n",
    "\n",
    "```julia\n",
    "```"
   ]
  },
  {
   "cell_type": "code",
   "execution_count": 18,
   "id": "38dbb089",
   "metadata": {},
   "outputs": [
    {
     "data": {
      "text/plain": [
       "3×3 Matrix{Int64}:\n",
       " 1  2  3\n",
       " 4  1  6\n",
       " 7  8  1"
      ]
     },
     "execution_count": 18,
     "metadata": {},
     "output_type": "execute_result"
    }
   ],
   "source": [
    "using LinearAlgebra # where the magic functions come from\n",
    "b=[[1,2,3] [4,1,6] [7,8,1]] \n",
    "A = [1 2 3; 4 1 6; 7 8 1]"
   ]
  },
  {
   "cell_type": "code",
   "execution_count": 19,
   "id": "dc68307a",
   "metadata": {},
   "outputs": [
    {
     "data": {
      "text/plain": [
       "3×3 Matrix{Int64}:\n",
       " 1  4  7\n",
       " 2  1  8\n",
       " 3  6  1"
      ]
     },
     "execution_count": 19,
     "metadata": {},
     "output_type": "execute_result"
    }
   ],
   "source": [
    "b # notice the difference"
   ]
  },
  {
   "cell_type": "markdown",
   "id": "8f628d11",
   "metadata": {},
   "source": [
    "### Basic Matrix Operations\n",
    "\n",
    "#### determinant\n",
    "It can be calculated with the det() method.\n",
    "```julia\n",
    "A = [1 2 3; 4 1 6; 7 8 1]\n",
    "det(A)\n",
    "```\n",
    "\n",
    "#### inverse\n",
    "Use the inv() method\n",
    "```julia\n",
    "A = [1 2 3; 4 1 6; 7 8 1]\n",
    "inv(A)\n",
    "```\n",
    "\n",
    "#### Dot operations\n",
    "Use the dot(x,y) method\n",
    "```julia\n",
    "dot(A[1:], b[1:])\n",
    "```\n",
    "\n",
    "#### Cross Product\n",
    "Use cross(x,y) method\n",
    "```julia\n",
    "cross(A,b)\n",
    "```\n",
    "\n",
    "#### Norms\n",
    "Use the norm(A, p) method where P is the L1 or L2 norm. Default is 2.\n",
    "```julia\n",
    "norm(A, 2)\n",
    "```\n"
   ]
  },
  {
   "cell_type": "code",
   "execution_count": 32,
   "id": "298cca06",
   "metadata": {},
   "outputs": [
    {
     "data": {
      "text/plain": [
       "104.0"
      ]
     },
     "execution_count": 32,
     "metadata": {},
     "output_type": "execute_result"
    }
   ],
   "source": [
    "det(A)"
   ]
  },
  {
   "cell_type": "code",
   "execution_count": 33,
   "id": "23e62735",
   "metadata": {},
   "outputs": [
    {
     "data": {
      "text/plain": [
       "3×3 Matrix{Float64}:\n",
       " -0.451923   0.211538    0.0865385\n",
       "  0.365385  -0.192308    0.0576923\n",
       "  0.240385   0.0576923  -0.0673077"
      ]
     },
     "execution_count": 33,
     "metadata": {},
     "output_type": "execute_result"
    }
   ],
   "source": [
    "inv(A)"
   ]
  },
  {
   "cell_type": "code",
   "execution_count": 29,
   "id": "1463c17e",
   "metadata": {},
   "outputs": [
    {
     "data": {
      "text/plain": [
       "30"
      ]
     },
     "execution_count": 29,
     "metadata": {},
     "output_type": "execute_result"
    }
   ],
   "source": [
    "dot(A[1,:], b[1,:])"
   ]
  },
  {
   "cell_type": "code",
   "execution_count": 42,
   "id": "71f8633f",
   "metadata": {},
   "outputs": [
    {
     "data": {
      "text/plain": [
       "3-element Vector{Int64}:\n",
       "  2\n",
       " -4\n",
       "  2"
      ]
     },
     "execution_count": 42,
     "metadata": {},
     "output_type": "execute_result"
    }
   ],
   "source": [
    "cross(A[1,:],b[1,:])"
   ]
  },
  {
   "cell_type": "code",
   "execution_count": 46,
   "id": "bdc670c6",
   "metadata": {},
   "outputs": [
    {
     "data": {
      "text/plain": [
       "3.7416573867739413"
      ]
     },
     "execution_count": 46,
     "metadata": {},
     "output_type": "execute_result"
    }
   ],
   "source": [
    "norm(A[1,:], 2)"
   ]
  },
  {
   "cell_type": "markdown",
   "id": "ef755825",
   "metadata": {},
   "source": [
    "### Factorization\n",
    "https://docs.julialang.org/en/v1/stdlib/LinearAlgebra/#LinearAlgebra.factorize\n",
    "You can do many factorizations with Julia:\n",
    "By calling the factorize(A) function,Julia will actually determine the best factorization you can do.\n",
    "\n",
    "You can also call specific methods if the factorization does not suit your needs."
   ]
  },
  {
   "cell_type": "code",
   "execution_count": 38,
   "id": "2fd37eb9",
   "metadata": {},
   "outputs": [
    {
     "data": {
      "text/plain": [
       "LinearAlgebra.LU{Float64, Matrix{Float64}}\n",
       "L factor:\n",
       "3×3 Matrix{Float64}:\n",
       "  1.0   0.0  0.0\n",
       " -0.25  1.0  0.0\n",
       "  0.5   0.5  1.0\n",
       "U factor:\n",
       "3×3 Matrix{Float64}:\n",
       " 8.0   8.0   0.0\n",
       " 0.0  -2.0   5.0\n",
       " 0.0   0.0  -7.5"
      ]
     },
     "execution_count": 38,
     "metadata": {},
     "output_type": "execute_result"
    }
   ],
   "source": [
    "LUfact=[4 3 -5 ; -2 -4 5 ; 8 8 0 ] # I actually did an LU factorization on this matrix in the math unit\n",
    "factorize(LUfact)"
   ]
  },
  {
   "cell_type": "code",
   "execution_count": 40,
   "id": "bd23ec95",
   "metadata": {},
   "outputs": [
    {
     "data": {
      "text/plain": [
       "LinearAlgebra.LU{Float64, Matrix{Float64}}\n",
       "L factor:\n",
       "3×3 Matrix{Float64}:\n",
       "  1.0   0.0  0.0\n",
       " -0.25  1.0  0.0\n",
       "  0.5   0.5  1.0\n",
       "U factor:\n",
       "3×3 Matrix{Float64}:\n",
       " 8.0   8.0   0.0\n",
       " 0.0  -2.0   5.0\n",
       " 0.0   0.0  -7.5"
      ]
     },
     "execution_count": 40,
     "metadata": {},
     "output_type": "execute_result"
    }
   ],
   "source": [
    "# Alternate method:\n",
    "lu(LUfact)"
   ]
  },
  {
   "cell_type": "code",
   "execution_count": null,
   "id": "3737bca2",
   "metadata": {},
   "outputs": [],
   "source": []
  }
 ],
 "metadata": {
  "kernelspec": {
   "display_name": "Julia 1.7.3",
   "language": "julia",
   "name": "julia-1.7"
  },
  "language_info": {
   "file_extension": ".jl",
   "mimetype": "application/julia",
   "name": "julia",
   "version": "1.7.3"
  }
 },
 "nbformat": 4,
 "nbformat_minor": 5
}
