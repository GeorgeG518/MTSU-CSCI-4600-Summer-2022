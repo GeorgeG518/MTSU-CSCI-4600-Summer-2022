{
 "cells": [
  {
   "cell_type": "markdown",
   "id": "d515390e",
   "metadata": {},
   "source": [
    "## Data Types\n",
    "Julia supports many numeric types. Integers can be signed or unsigned, and floats can be double precision. \n",
    "\n",
    "###  <center>Integer Types</center>\n",
    "|Type\t|Signed?|\tNumber of bits\t|Smallest value |\tLargest value|\n",
    "|--|--|--|--|--|\n",
    "|Int8\t|✓|\t8\t|-2^7\t|2^7 - 1|\n",
    "|UInt8|\t\t|8\t|0\t|2^8 - 1|\n",
    "|Int16|\t✓|\t16|\t-2^15\t|2^15 - 1|\n",
    "|UInt16|\t\t16|\t0\t|2^16 - 1|\n",
    "|Int32\t|✓\t|32|\t-2^31\t|2^31 - 1|\n",
    "|UInt32|\t|\t32|\t0\t|2^32 - 1|\n",
    "|Int64|\t✓\t|64|\t-2^63\t|2^63 - 1|\n",
    "|UInt64|\t|\t64|\t0\t|2^64 - 1|\n",
    "|Int128|\t✓|\t128|\t-2^127\t|2^127 - 1|\n",
    "|UInt128|\t\t|128|\t0\t|2^128 - 1|\n",
    "|Bool\t|N/A\t|8|\tfalse (0)\t|true (1)|\n",
    "\n",
    "<br>\n",
    "\n",
    "###  <center>Floating-Point Types</center>\n",
    "|Type\t|Precision|\tNumber of bits\t|\n",
    "|--|--|--|\n",
    "|Float16|\thalf|\t16|\n",
    "|Float32|\tsingle|\t32|\n",
    "|Float64|\tdouble|\t64|\n",
    "\n",
    "By default, regular integers are declared as signed integers matching the bit of the system, and floating points are the same way."
   ]
  },
  {
   "cell_type": "code",
   "execution_count": 7,
   "id": "7dcd828d",
   "metadata": {},
   "outputs": [
    {
     "name": "stdout",
     "output_type": "stream",
     "text": [
      "64 Int64 Float64\n"
     ]
    }
   ],
   "source": [
    "integer=1234\n",
    "floater=5.67\n",
    "println(Sys.WORD_SIZE, \" \",typeof(integer),\" \", typeof(floater))"
   ]
  },
  {
   "cell_type": "markdown",
   "id": "aa57f352",
   "metadata": {},
   "source": [
    "### Strings\n",
    "https://docs.julialang.org/en/v1/manual/strings/\n",
    "Strings are also supported by Julia and are unicode [as seen earlier with the emoji stuff]. String are immutable. They can be indexed just like Python and support special start and end keywords. You cannot index with -1"
   ]
  },
  {
   "cell_type": "code",
   "execution_count": 14,
   "id": "3e47c033",
   "metadata": {},
   "outputs": [
    {
     "name": "stdout",
     "output_type": "stream",
     "text": [
      "S\n",
      "\n",
      "\n",
      ".\n"
     ]
    }
   ],
   "source": [
    "str=\"Strings are also supported by Julia and are unicode [as seen earlier with the emoji stuff].\\\n",
    "String are immutable.\\n\"\n",
    "println(str[1])\n",
    "# println(str[-1]) doesn't work\n",
    "println(str[end]) # newline\n",
    "println(str[end-1])"
   ]
  },
  {
   "cell_type": "markdown",
   "id": "73c2ade8",
   "metadata": {},
   "source": [
    "### Type Declarations\n",
    "https://docs.julialang.org/en/v1/manual/types/#Type-Declarations\n",
    "\n",
    "The :: operator can be used to attach type annotations to expressions and variables in programs. e.g\n",
    "\n",
    "``` julia\n",
    "x::Int8=100\n",
    "```\n",
    "\n",
    "Notice the similarity to Fortran? The reason to do this is for validation of types in functions but also for performance because it assists the compiler in assigning types to variables.\n",
    "\n",
    "If you use the :: operator on the left hand side of an argument you are assigning a type to a variable, if you use it on the right hand side it is interpreted as \"is an instance of\" and can be used to make sure that the result of an expression is of the type specified.\n",
    "\n",
    "You can attach"
   ]
  },
  {
   "cell_type": "code",
   "execution_count": 47,
   "id": "126376ac",
   "metadata": {},
   "outputs": [
    {
     "name": "stdout",
     "output_type": "stream",
     "text": [
      "Int8\n"
     ]
    },
    {
     "ename": "LoadError",
     "evalue": "TypeError: in typeassert, expected AbstractFloat, got a value of type Int8",
     "output_type": "error",
     "traceback": [
      "TypeError: in typeassert, expected AbstractFloat, got a value of type Int8",
      "",
      "Stacktrace:",
      " [1] top-level scope",
      "   @ In[47]:8",
      " [2] eval",
      "   @ .\\boot.jl:373 [inlined]",
      " [3] include_string(mapexpr::typeof(REPL.softscope), mod::Module, code::String, filename::String)",
      "   @ Base .\\loading.jl:1196"
     ]
    }
   ],
   "source": [
    "# I have to put it into a function because you can't put types on them\n",
    "function foo(y::Float64)::Tuple{Int8,Float64} # notice use of type declaration in parameters and return type on end\n",
    "    x::Int8 = 100 # demonstrating defining the type\n",
    "    println(typeof(x))\n",
    "    return x,y\n",
    "end\n",
    "a,b=foo(7.65)\n",
    "(a)::AbstractFloat # checking if x is of the type AbstractFloat, other use of ::"
   ]
  },
  {
   "cell_type": "code",
   "execution_count": 29,
   "id": "70789ba1",
   "metadata": {},
   "outputs": [
    {
     "name": "stdout",
     "output_type": "stream",
     "text": [
      "true\n",
      "false\n"
     ]
    }
   ],
   "source": [
    "# Side Note: You can check if something is a subtype of another using <: operator\n",
    "println(Int8 <: Integer)\n",
    "println(Float16 <: Integer)"
   ]
  },
  {
   "cell_type": "markdown",
   "id": "34c3db77",
   "metadata": {},
   "source": [
    "### Structs\n",
    "\n",
    "#### Composite Structs (immutable)\n",
    "Julia is not an object oriented programming language but it does support simple structs. Structs defined by the struct keyword are inherently immutable. They cannot be modified after their construction. The docs state that this gives them a few advantages:\n",
    "* It can be more efficient. Some structs can be packed efficiently into arrays, and in some cases the compiler is able to avoid allocating immutable objects entirely.\n",
    "* It is not possible to violate the invariants provided by the type's constructors.\n",
    "* Code using immutable objects can be easier to reason about.\n",
    "\n",
    "declared using: \n",
    "```julia\n",
    "struct name ... end\n",
    "```\n",
    "#### Mutable Composite structs\n",
    "Same general idea, but they are declared by adding the mutable keyword in front of struct. These are allocated on the heap like new. \n",
    "\n",
    "\n",
    "declared using: \n",
    "```julia\n",
    "mutable struct name ... end\n",
    "```"
   ]
  },
  {
   "cell_type": "code",
   "execution_count": 3,
   "id": "5eff5569",
   "metadata": {},
   "outputs": [],
   "source": [
    "struct point\n",
    "    x::Float64\n",
    "    y::Float64\n",
    "    z::Float64    \n",
    "end\n",
    "\n",
    "# A variable like this would probably have its values change over time\n",
    "mutable struct current_position\n",
    "    x::Float64\n",
    "    y::Float64\n",
    "    z::Float64   \n",
    "end"
   ]
  },
  {
   "cell_type": "markdown",
   "id": "5d281049",
   "metadata": {},
   "source": [
    "### Arrays\n",
    "https://docs.julialang.org/en/v1/manual/arrays/\n",
    "\n",
    "Of course Julia supports arrays! They are stored column major, 1 indexed like Fortran or Matlab. \n",
    "Julia has a few methods in base that basically give you the functionality of python with numpy right out of the box.\n",
    "\n",
    "The most important ones I can think of that I need to talk about are equivalent functions for np.zeros(), np.linspace() and np.fill().\n",
    "\n",
    "You can create one-dimensional vectors using square brackets:\n",
    "```julia\n",
    "a=[1,2,3]\n",
    "```\n",
    "\n",
    "If you leave spaces inside the brackets or If I use semicolons, I can horizontally concatenate whatever is there e.g. if I have two vectors [1,2] and [3,4], I can concatenate them horizontally next to each other so that they're parallel about the Y\n",
    "\n",
    "```julia\n",
    "b=[[1,2] [3,4]]\n",
    "2 x 2 matrix\n",
    "1 3 \n",
    "2 4\n",
    "\n",
    "^^ Equivalent to\n",
    "b=[[1,2];;[3,4]]\n",
    "```\n",
    "\n",
    "If i use single semicolons or newlines  I vertically concatenate what is there. \n",
    "```julia\n",
    "a=[1,2,3 ; 4, 5, 6]\n",
    "a= (vector)\n",
    "1\n",
    "2 \n",
    "3 \n",
    "4\n",
    "5 \n",
    "6\n",
    "```\n"
   ]
  },
  {
   "cell_type": "code",
   "execution_count": 14,
   "id": "cbf2310c",
   "metadata": {},
   "outputs": [
    {
     "name": "stdout",
     "output_type": "stream",
     "text": [
      "[1, 2, 3]\n",
      "[1 4 7; 2 5 8; 3 6 9]\n",
      "[1 2 3]\n",
      "[1 2; 3 4]\n"
     ]
    },
    {
     "data": {
      "text/plain": [
       "6-element Vector{Int64}:\n",
       " 1\n",
       " 2\n",
       " 3\n",
       " 4\n",
       " 5\n",
       " 6"
      ]
     },
     "execution_count": 14,
     "metadata": {},
     "output_type": "execute_result"
    }
   ],
   "source": [
    "a=[1,2,3] # Vector\n",
    "println(a)\n",
    "\n",
    "b=[[1,2,3] [4,5,6] [7,8,9]] # Matrix\n",
    "println(b)\n",
    "\n",
    "c=[1 2 3] # 1 x 3 matrix\n",
    "println(c)\n",
    "\n",
    "d = [1 2\n",
    "    3 4]\n",
    "println(d) # concatenates vertically\n",
    "\n",
    "a=[[1,2,3] ; [4, 5, 6]]\n",
    "a"
   ]
  },
  {
   "cell_type": "code",
   "execution_count": null,
   "id": "d7c94da8",
   "metadata": {},
   "outputs": [],
   "source": []
  },
  {
   "cell_type": "code",
   "execution_count": null,
   "id": "717dc581",
   "metadata": {},
   "outputs": [],
   "source": []
  }
 ],
 "metadata": {
  "kernelspec": {
   "display_name": "Julia 1.7.3",
   "language": "julia",
   "name": "julia-1.7"
  },
  "language_info": {
   "file_extension": ".jl",
   "mimetype": "application/julia",
   "name": "julia",
   "version": "1.7.3"
  }
 },
 "nbformat": 4,
 "nbformat_minor": 5
}
