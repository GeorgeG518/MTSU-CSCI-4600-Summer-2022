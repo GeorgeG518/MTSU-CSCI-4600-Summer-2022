{
 "cells": [
  {
   "attachments": {
    "image-2.png": {
     "image/png": "[encoded data removed]"
    }
   },
   "cell_type": "markdown",
   "id": "a51ae722",
   "metadata": {},
   "source": [
    "\n",
    "![image-2.png](attachment:image-2.png)\n",
    "\n",
    "I will be using a book and the online documentation for most of my Julia learning. \n",
    "The book is called: \"Tanmay Teaches Julia for Beginners: A Springboard to Machine Learning for all Ages\"\n",
    "\n",
    "Here's the link to buy the book, but I will say it is *very* simple. I would really adore a Julia version of the Numerical Python book I was using because that had just the right amount of rigor and depth that I crave. \n",
    "https://www.amazon.com/dp/1260456633?psc=1&ref=ppx_yo2ov_dt_b_product_details\n",
    "\n",
    "For all intents and purposes, this book should work for structure sake.\n",
    "\n",
    "The offical Julia lang documentation: https://docs.julialang.org/en/v1/ should fill in any gaps or more nuanced stuff like when I get to ODE calculation.\n"
   ]
  },
  {
   "cell_type": "markdown",
   "id": "a01a13b7",
   "metadata": {},
   "source": [
    "# Why Julia?\n",
    "\n",
    "The book starts off with a simple question: why Julia? I feel as though I can answer this question with the reasons that attracted me to it in the first place.\n",
    "\n",
    "1. First, **performance**; Unlike python, Julia is JIT compiled (really \"Just Ahead of Time\", but I feel like that's pedantic). You can make Python run JIT compiled as seen with Numba, but the fact Julia is just designed that way is very neat. It also supports offloading to GPU with no external libraries required. Finally, and most of note: it is one of the only four languages that has achieved Petaflop performance: https://www.hpcwire.com/off-the-wire/julia-joins-petaflop-club/\n",
    "2. **Syntax is easy to understand.** You will see when I start coding that Julia looks like some weird cross of MATLAB, Fortran, and Python with some elements of Lisp thrown in.\n",
    "3. **Calling C and Fortran code with little to no Glue code required**; yeah...very nice.\n",
    "\n",
    "I will write a few lines of code to show some other neat features of Julia."
   ]
  },
  {
   "cell_type": "code",
   "execution_count": 9,
   "id": "7cf7fbf4",
   "metadata": {},
   "outputs": [
    {
     "data": {
      "text/plain": [
       "36.64101615137754"
      ]
     },
     "execution_count": 9,
     "metadata": {},
     "output_type": "execute_result"
    }
   ],
   "source": [
    "# Something very neat\n",
    "x=2\n",
    "5x√(3x^2) + x"
   ]
  },
  {
   "cell_type": "markdown",
   "id": "7f110201",
   "metadata": {},
   "source": [
    "Wait what? Did I just write a math expression exactly how I wanted it right here in line? Yeah. I did. You can do that. Julia is designed for readable Mathmematical code so it allows you to write that kind of stuff without needing sqrt or ** for power functions.\n",
    "\n",
    "Here is something else kind of neat:"
   ]
  },
  {
   "cell_type": "code",
   "execution_count": 50,
   "id": "ba917ff7",
   "metadata": {},
   "outputs": [
    {
     "name": "stdout",
     "output_type": "stream",
     "text": [
      "Unicode strings directly in source code...\n",
      "我在吃冰淇淋\n",
      "I am eating ice cream\n",
      "Eating ice cream: true"
     ]
    }
   ],
   "source": [
    "johncena=\"我在吃冰淇淋\"\n",
    "print(\"Unicode strings directly in source code...\\n\") # notice the print statements? the comments too?\n",
    "print(johncena,'\\n')\n",
    "\n",
    "\n",
    "我在吃冰淇淋 = \"I am eating ice cream\"\n",
    "print(我在吃冰淇淋,'\\n') # wait what?\n",
    "\n",
    "🍦 = true \n",
    "print(\"Eating ice cream: \", 🍦)"
   ]
  },
  {
   "cell_type": "code",
   "execution_count": 56,
   "id": "bc5df6d9",
   "metadata": {},
   "outputs": [
    {
     "name": "stdout",
     "output_type": "stream",
     "text": [
      "π+ℯ=5.859874482048838\n",
      "-1.0 + 1.2246467991473532e-16im\n"
     ]
    }
   ],
   "source": [
    "println( \"π+ℯ\", '=',pi+ℯ)\n",
    "println(ℯ^(im)π) # cool beans"
   ]
  },
  {
   "cell_type": "markdown",
   "id": "16f0c1cc",
   "metadata": {},
   "source": [
    "I personally think it is so cool that I can get some of those features in my code. The mathematical function thing really impresses me. I feel like I should mention too that yes, I do know that MATLAB supports something similar but I say this in reponse: MATLAB ain't free.\n",
    "\n",
    "With all of that out of the way, I will continue on with some actual learning instead of this cursed programming stuff."
   ]
  },
  {
   "cell_type": "markdown",
   "id": "ef970fdd",
   "metadata": {},
   "source": [
    "## Variables and Input\n",
    "Chapter 2 of the Book starts with variables and input, so I guess that's what I will start with. Variables can begin with any letter A-Z, a-z, underscores and unicode symbols. You cannot have the following characters in the variable name, nor can you have numbers:\n",
    "'+-%$#@^&~`|,'\n",
    "\n",
    "Here are some valid variable names in Julia:"
   ]
  },
  {
   "cell_type": "code",
   "execution_count": 62,
   "id": "c43402f6",
   "metadata": {},
   "outputs": [
    {
     "data": {
      "text/plain": [
       "\"ice creamsandwich\""
      ]
     },
     "execution_count": 62,
     "metadata": {},
     "output_type": "execute_result"
    }
   ],
   "source": [
    "A=1.0\n",
    "_a2=-6\n",
    "🍦sandwich = \"ice creamsandwich\""
   ]
  },
  {
   "cell_type": "markdown",
   "id": "33489bb7",
   "metadata": {},
   "source": [
    "As you can probably guess, things can get pretty cursed with variable names. Next I'll cover some operators.\n",
    "\n",
    "# Operators\n",
    "\n",
    "|Expression\tName |\tDescription |\n",
    "|--|--|\n",
    "|+x |\tunary plus\tthe identity operation |\n",
    "|-x |\tunary minus\tmaps values to their additive inverses |\n",
    "|x + y |\tbinary plus\tperforms addition |\n",
    "|x - y |\tbinary minus\tperforms subtraction |\n",
    "|x * y |\ttimes\tperforms multiplication |\n",
    "|x / y |\tdivide\tperforms division |\n",
    "|x ÷ y |\tinteger divide\tx / y, truncated to an integer |\n",
    "|x \\ y |\tinverse divide\tequivalent to y / x |\n",
    "|x ^ y |\tpower\traises x to the yth power |\n",
    "|x % y |\tremainder\tequivalent to rem(x,y) |"
   ]
  },
  {
   "cell_type": "markdown",
   "id": "f34a6d03",
   "metadata": {},
   "source": [
    "### Addition / Subtraction / Concatenation of Strings"
   ]
  },
  {
   "cell_type": "code",
   "execution_count": 65,
   "id": "4d34bca6",
   "metadata": {},
   "outputs": [
    {
     "data": {
      "text/plain": [
       "101"
      ]
     },
     "execution_count": 65,
     "metadata": {},
     "output_type": "execute_result"
    }
   ],
   "source": [
    "number=1.0\n",
    "number=\"💩\"\n",
    "number = 50 # notice the change of type from above\n",
    "number2 = 51\n",
    "number3=number+number2"
   ]
  },
  {
   "cell_type": "code",
   "execution_count": 83,
   "id": "ef036e12",
   "metadata": {},
   "outputs": [
    {
     "data": {
      "text/plain": [
       "0.0"
      ]
     },
     "execution_count": 83,
     "metadata": {},
     "output_type": "execute_result"
    }
   ],
   "source": [
    "mylife = 100.0\n",
    "u = 10*10\n",
    "mylifeis=mylife-u"
   ]
  },
  {
   "cell_type": "code",
   "execution_count": 72,
   "id": "a4e0899a",
   "metadata": {},
   "outputs": [
    {
     "name": "stdout",
     "output_type": "stream",
     "text": [
      "🐂💩\n"
     ]
    }
   ],
   "source": [
    "\"\"\"\n",
    "Uses a bit weird of an operator: can't use +, have to use *? \n",
    "\n",
    "\"\"\"\n",
    "var1 = \"🐂\"\n",
    "var2 = \"💩\"\n",
    "println(var1*var2)"
   ]
  },
  {
   "cell_type": "markdown",
   "id": "36b7303a",
   "metadata": {},
   "source": [
    "### Multiplication/Exponents"
   ]
  },
  {
   "cell_type": "code",
   "execution_count": 84,
   "id": "96dc539c",
   "metadata": {},
   "outputs": [
    {
     "name": "stdout",
     "output_type": "stream",
     "text": [
      "5.0\n",
      "31\n"
     ]
    }
   ],
   "source": [
    "a, b =3,4\n",
    "\n",
    "# multiplication\n",
    "c= a*a + b*b \n",
    "\n",
    "# one of the ways to do square root\n",
    "println(c^0.5)\n",
    "\n",
    "mersenne=2^5 -1\n",
    "println(mersenne)"
   ]
  },
  {
   "cell_type": "markdown",
   "id": "ad9b3484",
   "metadata": {},
   "source": [
    "### Division (All the Kinds) / Modulus"
   ]
  },
  {
   "cell_type": "code",
   "execution_count": 96,
   "id": "e5eeb75b",
   "metadata": {},
   "outputs": [
    {
     "name": "stdout",
     "output_type": "stream",
     "text": [
      "Regular float division: 7.5\n",
      "Integer divison 5 ÷ 2: 2\n",
      "Modulus 5%2: 1\n",
      "Inverse division 5\\2 i.e. 2/5: 0.4"
     ]
    }
   ],
   "source": [
    "# division\n",
    "half =  15/ 2 # float division\n",
    "println(\"Regular float division: \", half)\n",
    "\n",
    "# Integer Division\n",
    "otherhalf = 5÷2 # alt+0247\n",
    "println(\"Integer divison 5 ÷ 2: \",otherhalf)\n",
    "\n",
    "# Modulus\n",
    "mod = 5%2\n",
    "println(\"Modulus 5%2: \",mod)\n",
    "\n",
    "# Inverse division\n",
    "twice= 5\\2\n",
    "print(\"Inverse division 5\\\\2 i.e. 2/5: \", twice)"
   ]
  },
  {
   "cell_type": "markdown",
   "id": "d7f416a5",
   "metadata": {},
   "source": [
    "### Boolean Operators/Numeric Comparison\n",
    "|Expression\t|Name|\n",
    "|--|--|\n",
    "|!x\t|negation|\n",
    "|x && y\t|short-circuiting and|\n",
    "|x \\|\\| y\t|short-circuiting or|\n",
    "|==\t|equality |\n",
    "|!=, ≠|\tinequality|\n",
    "|<\t|less than|\n",
    "|<=, ≤|\tless than or equal to|\n",
    "|>\t|greater than|\n",
    "|>=, ≥\t|greater than or equal to|"
   ]
  },
  {
   "cell_type": "code",
   "execution_count": 132,
   "id": "418e4b54",
   "metadata": {},
   "outputs": [
    {
     "name": "stdout",
     "output_type": "stream",
     "text": [
      "false\n",
      "AND true and false: false\n",
      "OR true and false: true\n",
      "1==1 true\n",
      "2!=1 true\n",
      "3<4 true\n",
      "3<=3 true\n",
      "3>=4 false\n"
     ]
    }
   ],
   "source": [
    "nottrue = true\n",
    "nottrue = !nottrue\n",
    "println(nottrue)\n",
    "\n",
    "println(\"AND true and false: \",true && false)\n",
    "println(\"OR true and false: \",true || false)\n",
    "\n",
    "println(\"1==1 \",1==1)\n",
    "println(\"2!=1 \",2!=1)\n",
    "println(\"3<4 \",3<4)\n",
    "println(\"3<=3 \",3<=3)\n",
    "println(\"3>=4 \",3>=4)QE"
   ]
  },
  {
   "cell_type": "markdown",
   "id": "5a2b2cf5",
   "metadata": {},
   "source": [
    "### Bitwise Operators\n",
    "|Expression |Name|\n",
    "|--|--|\n",
    "|~x\t|bitwise not|\n",
    "|x & y\t|bitwise and |\n",
    "|x \\| y\t|bitwise or |\n",
    "|x ⊻ y\t|bitwise xor (exclusive or) |\n",
    "|x ⊼ y\t|bitwise nand (not and)|\n",
    "|x ⊽ y\t|bitwise nor (not or)|\n",
    "|x >>> y|\tlogical shift right|\n",
    "|x >> y\t|arithmetic shift right|\n",
    "|x << y\t|logical/arithmetic shift left|"
   ]
  },
  {
   "cell_type": "code",
   "execution_count": 115,
   "id": "10a4a2c3",
   "metadata": {},
   "outputs": [
    {
     "name": "stdout",
     "output_type": "stream",
     "text": [
      "-7\n",
      "0\n",
      "-1\n"
     ]
    }
   ],
   "source": [
    "# 6, 0110\n",
    "println(~6) # 1001 -7\n",
    "println(6 & -7) # 0000 0\n",
    "println(6 | -7) # 1111 -1"
   ]
  },
  {
   "cell_type": "markdown",
   "id": "ef7ce905",
   "metadata": {},
   "source": [
    "### Interesting Stuff"
   ]
  },
  {
   "cell_type": "code",
   "execution_count": 123,
   "id": "cdae6fa0",
   "metadata": {},
   "outputs": [
    {
     "name": "stdout",
     "output_type": "stream",
     "text": [
      "18\n"
     ]
    }
   ],
   "source": [
    "x=3 \n",
    "y=6\n",
    "\n",
    "println(2(x+y))"
   ]
  },
  {
   "cell_type": "code",
   "execution_count": 124,
   "id": "1736965e",
   "metadata": {},
   "outputs": [
    {
     "name": "stdout",
     "output_type": "stream",
     "text": [
      "18\n"
     ]
    }
   ],
   "source": [
    "x = 0x12 # HEXADECIMAL YEAHHHHHH\n",
    "println(x)"
   ]
  },
  {
   "cell_type": "markdown",
   "id": "3a156c3c",
   "metadata": {},
   "source": [
    "### Vectorized \"dot\" Operators\n",
    "\"For every binary operation like ^, there is a corresponding \"dot\" operation .^ that is automatically defined to perform ^ element-by-element on arrays.\" - Julia Docs"
   ]
  },
  {
   "cell_type": "code",
   "execution_count": 128,
   "id": "50a6b9a2",
   "metadata": {},
   "outputs": [
    {
     "data": {
      "text/plain": [
       "3-element Vector{Int64}:\n",
       "  4\n",
       " 16\n",
       " 64"
      ]
     },
     "execution_count": 128,
     "metadata": {},
     "output_type": "execute_result"
    }
   ],
   "source": [
    "[2,4,8].^2"
   ]
  },
  {
   "cell_type": "markdown",
   "id": "bf3049f6",
   "metadata": {},
   "source": [
    "# Various Math Functions"
   ]
  },
  {
   "cell_type": "markdown",
   "id": "47b05a77",
   "metadata": {},
   "source": [
    "### Rounding Functions"
   ]
  },
  {
   "cell_type": "code",
   "execution_count": 139,
   "id": "28bf0149",
   "metadata": {},
   "outputs": [
    {
     "data": {
      "text/plain": [
       "15151.0"
      ]
     },
     "execution_count": 139,
     "metadata": {},
     "output_type": "execute_result"
    }
   ],
   "source": [
    "round(3.6) # 4.0\n",
    "floor(3.1) # 3.0\n",
    "ceil(3.2) # 4.0\n",
    "trunc(15151.125125125125) # 15151.0"
   ]
  },
  {
   "cell_type": "markdown",
   "id": "77639dc0",
   "metadata": {},
   "source": [
    "### Division Functions"
   ]
  },
  {
   "cell_type": "code",
   "execution_count": 152,
   "id": "3b246c65",
   "metadata": {},
   "outputs": [
    {
     "data": {
      "text/plain": [
       "6"
      ]
     },
     "execution_count": 152,
     "metadata": {},
     "output_type": "execute_result"
    }
   ],
   "source": [
    "div(5,2) # truncated division 2\n",
    "fld(17,3) # floor division, 5\n",
    "cld(17,3) # ceiling division, 6\n",
    "rem(5,3) # remainder of division\n",
    "divrem(17,3) # division with remainder: 5,2\n",
    "fldmod(17,3) # floor division with mod\n",
    "gcd(6,2) # greatest common divisor, 2\n",
    "lcm(6,2) # least positive common multiple of the two, 6"
   ]
  },
  {
   "cell_type": "markdown",
   "id": "cf628364",
   "metadata": {},
   "source": [
    "### Sign and Absolute Value Functions"
   ]
  },
  {
   "cell_type": "code",
   "execution_count": 4,
   "id": "397f2869",
   "metadata": {},
   "outputs": [
    {
     "data": {
      "text/plain": [
       "-9"
      ]
     },
     "execution_count": 4,
     "metadata": {},
     "output_type": "execute_result"
    }
   ],
   "source": [
    "x=-9\n",
    "y=4\n",
    "abs(x) # absolute value\n",
    "abs2(x) # absolute value^2\n",
    "sign(-9) # returns sign of variable: -1, 0 or 1 correlates to negative, 0 or positive\n",
    "signbit(x) # is the sign bit flipped?\n",
    "copysign(x,y) # takes the sign of y but the value of x\n",
    "flipsign(x,y) # a value with the magnitute of x and the sign of x*y"
   ]
  },
  {
   "cell_type": "markdown",
   "id": "aa9d7fa7",
   "metadata": {},
   "source": [
    "### Powers, logs, and roots"
   ]
  },
  {
   "cell_type": "code",
   "execution_count": 16,
   "id": "d4634998",
   "metadata": {},
   "outputs": [
    {
     "data": {
      "text/plain": [
       "2.0"
      ]
     },
     "execution_count": 16,
     "metadata": {},
     "output_type": "execute_result"
    }
   ],
   "source": [
    "sqrt(49) # returns 7\n",
    "cbrt(27) # returns 3\n",
    "hypot(3,4) # returns \n",
    "exp(1) # e to the x\n",
    "log(2.71828459045) # natural log\n",
    "log(2,8) # base b logarithm of x\n",
    "log2(8) # base 2 logarithm of x\n",
    "log10(100) # base 10 log of x"
   ]
  },
  {
   "cell_type": "markdown",
   "id": "bf60505a",
   "metadata": {},
   "source": [
    "### Triognometry\n",
    "Julia supports all these trig functions. Each one takes one argument. \n",
    "\n",
    "#### The first functions accept radians:\n",
    "\n",
    "sin    cos    tan    cot    sec    csc <br>\n",
    "sinh   cosh   tanh   coth   sech   csch <br>\n",
    "asin   acos   atan   acot   asec   acsc <br>\n",
    "asinh  acosh  atanh  acoth  asech  acsch <br>\n",
    "sinc   cosc\n",
    "\n",
    "#### These accept degrees:\n",
    "sind   cosd   tand   cotd   secd   cscd <br>\n",
    "asind  acosd  atand  acotd  asecd  acscd\n",
    "\n",
    "\n"
   ]
  },
  {
   "cell_type": "code",
   "execution_count": null,
   "id": "ab29b8ce",
   "metadata": {},
   "outputs": [],
   "source": []
  }
 ],
 "metadata": {
  "kernelspec": {
   "display_name": "Julia 1.7.3",
   "language": "julia",
   "name": "julia-1.7"
  },
  "language_info": {
   "file_extension": ".jl",
   "mimetype": "application/julia",
   "name": "julia",
   "version": "1.7.3"
  }
 },
 "nbformat": 4,
 "nbformat_minor": 5
}
