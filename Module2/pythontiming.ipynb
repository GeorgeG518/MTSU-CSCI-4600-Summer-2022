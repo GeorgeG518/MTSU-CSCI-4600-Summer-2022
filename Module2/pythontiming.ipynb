{
 "cells": [
  {
   "cell_type": "markdown",
   "id": "ac5cbacb",
   "metadata": {},
   "source": [
    "# Table of Contents (click to jump):\n",
    "## [Native Python Solution](#natpython)\n",
    "## [\"Smarter\" Python Solution](#smartpython)"
   ]
  },
  {
   "cell_type": "markdown",
   "id": "2f0174e4",
   "metadata": {},
   "source": [
    "# Python Speed Module"
   ]
  },
  {
   "cell_type": "code",
   "execution_count": 3,
   "id": "dcc5a213",
   "metadata": {},
   "outputs": [],
   "source": [
    "from ctypes import CDLL\n",
    "randlib = CDLL(\"libc.so.6\")\n",
    "\n",
    "import numpy as np\n",
    "import time, sys"
   ]
  },
  {
   "cell_type": "markdown",
   "id": "3d30bf4e",
   "metadata": {},
   "source": [
    "# Function Headers and Objects\n",
    "These are used throughout the program Different implementations I used throughout this study are located within their respective sections.. This cell should be ran at the start of looking at the notebook so that all of the functions are in memory."
   ]
  },
  {
   "cell_type": "code",
   "execution_count": 4,
   "id": "5f8493f6",
   "metadata": {},
   "outputs": [],
   "source": [
    "\n",
    "\n",
    "def genrand3dpt(MIN, MAX):\n",
    "    X = (MAX-MIN)*(float(randlib.rand())/2147483647)+MIN\n",
    "    Y = (MAX-MIN)*(float(randlib.rand())/2147483647)+MIN\n",
    "    Z = (MAX-MIN)*(float(randlib.rand())/2147483647)+MIN\n",
    "    return X,Y,Z\n",
    "\n",
    "class point:\n",
    "    def __init__(self, x:float ,y: float, z: float):\n",
    "        self.x, self.y, self.z = x, y, z\n",
    "    \n",
    "def setCase(case):\n",
    "    if(case=='T1'):\n",
    "        seed = 7\n",
    "        pts = 100\n",
    "        expected = \"Expected Min, Max: 526.986 15183.808\\n\"\n",
    "    elif case=='T2':\n",
    "        seed = 7\n",
    "        pts = 1000\n",
    "        expected = \"Expected Min, Max: 70.299 15784.777\\n\"\n",
    "    elif case=='T3':\n",
    "        seed = 7\n",
    "        pts = 10000\n",
    "        expected = \"Expected Min, Max: 9.730 16509.943\\n\"\n",
    "    elif case=='T4':\n",
    "        seed = 7\n",
    "        pts = 30000\n",
    "        expected = \"Expected Min, Max:9.270 16643.182\\n\"\n",
    "    elif case=='T5':\n",
    "        seed = 7\n",
    "        pts = 40005\n",
    "        expected = \"Expected Min, Max: 8.705 16830.027\\n\"\n",
    "    return seed, pts, expected"
   ]
  },
  {
   "cell_type": "markdown",
   "id": "1c6d2724",
   "metadata": {},
   "source": [
    "# Native Python Solution <a class=\"anchor\" id=\"natpython\"></a>\n",
    "The Intention here is to demonstrate that native python is slow. I tried to get it as close to the original C code just for demonstration purposes. I know I can do some list comprehension stuff to make it probably faster and more succinct but that's not really the point of this particular test. It is nearly a 1 to 1 version of my C implementation but doing things slightly more pythonic"
   ]
  },
  {
   "cell_type": "code",
   "execution_count": null,
   "id": "1c46da37",
   "metadata": {},
   "outputs": [],
   "source": [
    "def shortest_native(srandseed, num_points):\n",
    "\n",
    "    points = []\n",
    "    for i in range(num_points):\n",
    "        tempx, tempy, tempz = genrand3dpt(0, 10000) # call random points macro\n",
    "        points.append(point(tempx, tempy, tempz)) # this part differs from the C code \n",
    "                                                  # in the fact that we're adding to an array as\n",
    "                                                  # we go through the generation.\n",
    "    loopMAX = 0\n",
    "    loopMIN = 1.7976931348623157e+308 # kinda big\n",
    "    \n",
    "    for i in range(num_points):      \n",
    "        for j in range(i+1,num_points):\n",
    "            xsqrd = (points[i].x - points[j].x)**2\n",
    "            ysqrd = (points[i].y - points[j].y)**2\n",
    "            zsqrd = (points[i].z - points[j].z)**2\n",
    "            distance = xsqrd + ysqrd + zsqrd\n",
    "            if loopMAX < distance:\n",
    "                loopMAX = distance\n",
    "            elif loopMIN > distance:\n",
    "                loopMIN = distance\n",
    "          \n",
    "    print(loopMIN**0.5, loopMAX**0.5)r\n",
    "    "
   ]
  },
  {
   "cell_type": "code",
   "execution_count": 28,
   "id": "9844abc0",
   "metadata": {},
   "outputs": [
    {
     "name": "stdout",
     "output_type": "stream",
     "text": [
      "Expected Min, Max: 8.705 16830.027\n",
      "\n",
      "8.704671647258278 16830.026589988684\n",
      "CPU times: user 7min 36s, sys: 0 ns, total: 7min 36s\n",
      "Wall time: 7min 36s\n"
     ]
    }
   ],
   "source": [
    "%%time\n",
    "seed, pts, expected = setCase('T5')\n",
    "randlib.srand(seed)\n",
    "print(expected)\n",
    "shortest_native(seed, pts)\n"
   ]
  },
  {
   "cell_type": "markdown",
   "id": "cfc8a672",
   "metadata": {},
   "source": [
    "## Native Python Summary\n",
    "As expected, the Python ran *slower* than the C code. Who would have thought?\n",
    "\n",
    "**Important Note** *Python floats internally are the same as doubles in C, so I had to run my original C code with doubles instead of floats. Timings vary from original code for this reason.*\n",
    "\n",
    "**System Specifications** AMD Ryzen 5 3600 6 cores, overclocked to 4.2Mhz\n",
    "\n",
    "### Here is a table containing timings for all five cases:\n",
    "\n",
    "| Case Name |Points| C Code Time | Python Timing  |\n",
    "|:---:       |:---:|   :----:   |           ---: |\n",
    "|T1|100|**real** 0.0 sec<br/>**user** 0.0 sec<br/>**sys** 0.0 sec<br/> | **real** 0.00419 sec<br/>**user** 0.00655 sec<br/>**sys** 0.0 sec<br/> |\n",
    "| | | |\n",
    "|T2|1000|**real** 0.0 sec<br/>**user** 0.0 sec<br/>**sys** 0.0 sec<br/> |  **real** 0.304 sec<br/>**user** 0.306 sec<br/>**sys** 0.0 sec<br/> |\n",
    "| | | |\n",
    "|T3|10000|**real** 0.08 sec<br/>**user** 0.08 sec<br/>**sys** 0.0 sec<br/> |**real** 29.8 sec<br/>**user** 29.8 sec<br/>**sys** 0.00033 sec<br/>                |\n",
    "| | | |\n",
    "|T4|30000| **real** 0.74 sec<br/>**user** 0.74 sec<br/>**sys** 0.0 sec<br/> | **real** 4min 16s 🤣 <br/>**user** 4min 16 s<br/> sys 0ns |\n",
    "| | | |\n",
    "|T5|40000|**real** 1.41 sec<br/>**user** 1.41 sec<br/>**sys** 0.0 sec<br/>  |**real** 7min 36s 🤡<br/>**user** 7min 36s<br/> sys 0ns|\n",
    "\n",
    "**Thermals**: Peaked at 70 degrees celsius, idle temp 32-45 degrees\n",
    "\n",
    "If you could not already tell by my emojis, I was most suprised by case 4 and 5. Without optimization, special methods, or other trickery, the Python gets smoked by the C. I am really just preaching to the choir here...python is slower than C-any first year programmer could have told you that. My intention here is to have a baseline to beat. If we aren't going faster than this, we aren't doing the purpose of the study."
   ]
  },
  {
   "cell_type": "markdown",
   "id": "8bf74787",
   "metadata": {},
   "source": [
    "# ==============================================="
   ]
  },
  {
   "cell_type": "markdown",
   "id": "e9150bb5",
   "metadata": {},
   "source": [
    "# First Optimization: \"Smarter\" Python <a class=\"anchor\" id=\"smartpython\"></a>\n",
    "List comprehensions, not allocating objects and other micro-optimizations should help our code run just a tad bit faster. "
   ]
  },
  {
   "cell_type": "markdown",
   "id": "a133006a",
   "metadata": {},
   "source": [
    "## A Few Things First\n",
    "There are few things that I found while reading online and also testing code that can significantly improve the speed of python code. One of the first things I found was trying to avoid creating objects for number crunching. The first thing I did was store my numbers by their pure values in a 3d array rather than creating a 1d array of point objects. Run the cell below to see this difference."
   ]
  },
  {
   "cell_type": "code",
   "execution_count": 311,
   "id": "881c0790",
   "metadata": {},
   "outputs": [
    {
     "name": "stdout",
     "output_type": "stream",
     "text": [
      "Using Objects 0.19133377075195312\n",
      "Pure Points, no Objects 0.12816953659057617\n"
     ]
    }
   ],
   "source": [
    "# Demonstrating that Allocation without Objects is Faster...\n",
    "num_points=50000\n",
    "\n",
    "start= time.time()\n",
    "points = []\n",
    "for i in range(num_points):\n",
    "    tempx, tempy, tempz = genrand3dpt(0, 10000)\n",
    "    points.append(point(tempx, tempy, tempz))\n",
    "print(\"Using Objects\",time.time()-start)\n",
    "del points\n",
    "\n",
    "start= time.time()\n",
    "points = [ [each for each in genrand3dpt(0, 10000)] for i in range(num_points)]\n",
    "print(\"Pure Points, no Objects\",time.time()-start)\n",
    "del points"
   ]
  },
  {
   "cell_type": "markdown",
   "id": "adb0b10b",
   "metadata": {},
   "source": [
    "The next thing I did was convert any loops I could to list comprehensions. Run the cell below to see the time difference between using range(), in container, mapping to lambda, and list comprehensions. What you should see is that list comprehensions are indeed the fastest"
   ]
  },
  {
   "cell_type": "code",
   "execution_count": 310,
   "id": "d1c844d1",
   "metadata": {},
   "outputs": [
    {
     "name": "stdout",
     "output_type": "stream",
     "text": [
      "Using lamba trickery 2.441319465637207\n",
      "[0, 1, 4, 9, 16] \n",
      "\n",
      "Using range() construct 2.8472323417663574\n",
      "[0, 1, 4, 9, 16] \n",
      "\n",
      "Using in statement 2.922112464904785\n",
      "[0, 1, 4, 9, 16] \n",
      "\n",
      "Using list comprehension 2.181307077407837\n",
      "[0, 1, 4, 9, 16] \n",
      "\n"
     ]
    }
   ],
   "source": [
    "start= time.time()\n",
    "test = [i for i in range(0,10000000)]\n",
    "for i in range(10000000):\n",
    "    test[i] = test[i]**2\n",
    "\n",
    "print(\"Using range() construct\", time.time()-start)\n",
    "print(test[:5],'\\n')\n",
    "del test\n",
    "\n",
    "start= time.time()\n",
    "test = [i for i in range(0,10000000)]\n",
    "for i, each in enumerate(test):\n",
    "    test[i] = each**2\n",
    "\n",
    "print(\"Using in statement\",time.time()-start)\n",
    "print(test[:5],'\\n')\n",
    "del test\n",
    "\n",
    "# just for fun\n",
    "start = time.time()\n",
    "test = [i for i in range(0,10000000)]\n",
    "test=list(map(lambda x: x**2, test))\n",
    "\n",
    "print(\"Using lamba trickery\", time.time()-start)\n",
    "print(test[:5],'\\n')\n",
    "del test\n",
    "\n",
    "start= time.time()\n",
    "test = [i for i in range(0,10000000)]\n",
    "test = [each**2 for each in test]\n",
    "print(\"Using list comprehension\", time.time()-start)\n",
    "print(test[:5],'\\n')\n",
    "del test"
   ]
  },
  {
   "cell_type": "markdown",
   "id": "7cba27cb",
   "metadata": {},
   "source": [
    "Sure the time differences between these two are quite small, but these will add up during execution. The resulting code that was created with these optimizations was far shorter. The implementation is below:"
   ]
  },
  {
   "cell_type": "code",
   "execution_count": 1,
   "id": "7109c06b",
   "metadata": {},
   "outputs": [],
   "source": [
    "def shortest_smartpython(srandseed, num_points):\n",
    "    points = [ [each for each in genrand3dpt(0, 10000)] for i in range(num_points)]\n",
    "    \n",
    "    loopMAX = 0\n",
    "    loopMIN = 1.7976931348623157e+308\n",
    "\n",
    "    for i in range(len(points)):\n",
    "        for j in range(i+1, num_points):\n",
    "            distance = (points[i][0] - points[j][0])**2 + (points[i][1] - points[j][1])**2 + (points[i][2]- points[j][2])**2\n",
    "            if loopMAX < distance:\n",
    "                loopMAX = distance\n",
    "            elif loopMIN > distance:\n",
    "                loopMIN = distance\n",
    "\n",
    "    print(loopMIN**0.5, loopMAX**0.5)"
   ]
  },
  {
   "cell_type": "code",
   "execution_count": 5,
   "id": "d1c457dc",
   "metadata": {},
   "outputs": [
    {
     "name": "stdout",
     "output_type": "stream",
     "text": [
      "Expected Min, Max: 70.299 15784.777\n",
      "\n",
      "70.29876940940112 15784.777591681941\n",
      "CPU times: user 191 ms, sys: 0 ns, total: 191 ms\n",
      "Wall time: 188 ms\n"
     ]
    }
   ],
   "source": [
    "%%time\n",
    "seed, pts, expected = setCase('T2')\n",
    "randlib.srand(seed)\n",
    "print(expected)\n",
    "shortest_smartpython(seed, pts) # 7408973.643113739"
   ]
  },
  {
   "cell_type": "markdown",
   "id": "64019e2a",
   "metadata": {},
   "source": [
    "# ==============================================="
   ]
  },
  {
   "cell_type": "markdown",
   "id": "c14ef295",
   "metadata": {},
   "source": [
    "## \"Smarter\" Python Summary\n",
    "The smarter python tended to be faster on average by a few seconds. I believe this speed increase is pretty much because of the allocation of the array being faster. Originally, I had the arithmetic inside of a list comprehension, but I was getting wall times of 25 minutes on case 5 which is obviously less than ideal. \n",
    "\n",
    "For brevity I am no longer writing the C code timings nor the point count for each case. Below is a table with my average timings.\n",
    "\n",
    "| Case Name | Python Timing  | How much faster? |\n",
    "|:---:       |:---:|        ---: |\n",
    "| T1 | **real** 0.00371 sec<br/>**user** 0.00521 sec<br/>**sys** 0.0 sec<br/>  | 0.00371 seconds|\n",
    "| T1 | **real** 0.26 sec<br/>**user** 0.262 sec<br/>**sys** 0.0 sec<br/>  | 0.042 seconds |\n",
    "| T3 | **real** 27 sec<br/>**user** 27 sec<br/>**sys** 0.0 sec<br/>  | 2.8 seconds |\n",
    "| T4 | **real** 3 min 57 sec<br/>**user** 3 min 57 sec<br/>**sys** 0.0 sec<br/>  | 19 seconds|\n",
    "| T5 | **real** 6 min 55s sec<br/>**user** 6min 55s sec<br/>**sys** 0.0 sec<br/>  | 41 seconds|\n",
    "\n",
    "I am positive there are even more optimizations you can do using basic python, but let's be honest here...if I am doing serious scientific programming, seven minutes of wall time for a relatively simple program is not acceptable.\n"
   ]
  },
  {
   "cell_type": "markdown",
   "id": "6ae21347",
   "metadata": {},
   "source": [
    "# Second Optimization: Numpy Arrays\n"
   ]
  },
  {
   "cell_type": "code",
   "execution_count": null,
   "id": "fbb78873",
   "metadata": {},
   "outputs": [],
   "source": []
  },
  {
   "cell_type": "code",
   "execution_count": null,
   "id": "4e45f082",
   "metadata": {},
   "outputs": [],
   "source": []
  }
 ],
 "metadata": {
  "kernelspec": {
   "display_name": "Python 3 (ipykernel)",
   "language": "python",
   "name": "python3"
  },
  "language_info": {
   "codemirror_mode": {
    "name": "ipython",
    "version": 3
   },
   "file_extension": ".py",
   "mimetype": "text/x-python",
   "name": "python",
   "nbconvert_exporter": "python",
   "pygments_lexer": "ipython3",
   "version": "3.9.7"
  }
 },
 "nbformat": 4,
 "nbformat_minor": 5
}
