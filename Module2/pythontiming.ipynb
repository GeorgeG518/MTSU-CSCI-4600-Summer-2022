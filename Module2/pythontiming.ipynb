{
 "cells": [
  {
   "cell_type": "markdown",
   "id": "2f0174e4",
   "metadata": {},
   "source": [
    "# Python Speed Module"
   ]
  },
  {
   "cell_type": "code",
   "execution_count": null,
   "id": "dcc5a213",
   "metadata": {},
   "outputs": [],
   "source": [
    "import numpy as np\n",
    "import time"
   ]
  }
 ],
 "metadata": {
  "kernelspec": {
   "display_name": "Python 3 (ipykernel)",
   "language": "python",
   "name": "python3"
  },
  "language_info": {
   "codemirror_mode": {
    "name": "ipython",
    "version": 3
   },
   "file_extension": ".py",
   "mimetype": "text/x-python",
   "name": "python",
   "nbconvert_exporter": "python",
   "pygments_lexer": "ipython3",
   "version": "3.9.7"
  }
 },
 "nbformat": 4,
 "nbformat_minor": 5
}
