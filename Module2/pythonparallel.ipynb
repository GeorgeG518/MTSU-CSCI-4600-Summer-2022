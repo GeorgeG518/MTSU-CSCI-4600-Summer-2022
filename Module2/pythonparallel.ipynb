{
 "cells": [
  {
   "cell_type": "markdown",
   "id": "c07ac694",
   "metadata": {},
   "source": []
  },
  {
   "cell_type": "code",
   "execution_count": 47,
   "id": "f9997c06",
   "metadata": {},
   "outputs": [],
   "source": [
    "from ctypes import CDLL\n",
    "randlib = CDLL(\"libc.so.6\")\n",
    "import time, sys\n",
    "import multiprocessing as mp\n",
    "\n",
    "# Look here for spoilers of what I used to speed up code\n",
    "import numpy as np\n",
    "from numba import jit \n",
    "from numba.experimental import jitclass\n",
    "from numba import float32, int32\n",
    "from numba import types\n",
    "\n",
    "\n",
    "\n",
    "def genrand3dpt(MIN, MAX):\n",
    "    X = (MAX-MIN)*(float(randlib.rand())/2147483647)+MIN\n",
    "    Y = (MAX-MIN)*(float(randlib.rand())/2147483647)+MIN\n",
    "    Z = (MAX-MIN)*(float(randlib.rand())/2147483647)+MIN\n",
    "    return X,Y,Z\n",
    "\n",
    "class point:\n",
    "    def __init__(self, x:float ,y: float, z: float):\n",
    "        self.x, self.y, self.z = x, y, z\n",
    "    \n",
    "def setCase(case):\n",
    "    if(case=='T1'):\n",
    "        seed = 7\n",
    "        pts = 40000\n",
    "        cores = 1\n",
    "        expected = \"Expected Min, Max: 8.705  16830.027\\n\"\n",
    "    elif case=='T2':\n",
    "        seed = 7\n",
    "        pts = 40000\n",
    "        cores =2\n",
    "        expected = \"Expected Min, Max: 8.705  16830.027\\n\"\n",
    "    elif case=='T3':\n",
    "        seed = 7\n",
    "        pts = 80000\n",
    "        cores = 1\n",
    "        expected = \"Expected Min, Max: 0.260  16989.490\\n\"\n",
    "    elif case=='T4':\n",
    "        seed = 7\n",
    "        pts = 80000\n",
    "        cores = 2\n",
    "        expected = \"Expected Min, Max: 0.260  16989.490\\n\"\n",
    "    elif case=='T5':\n",
    "        seed = 7\n",
    "        pts = 80000\n",
    "        cores = 4\n",
    "        expected = \"Expected Min, Max: 0.260  16989.490\\n\"\n",
    "    elif case=='T6':\n",
    "        seed = 111\n",
    "        pts = 111000\n",
    "        cores = 3\n",
    "        expected = \"Expected Min, Max: 1.555  16965.943\\n\"\n",
    "    return seed, pts, cores, expected"
   ]
  },
  {
   "cell_type": "markdown",
   "id": "f7628d8b",
   "metadata": {},
   "source": [
    "# Parallelization, Calling C and Other Methods: Part 2 of the Hit Series \"Speeding Up My Code\""
   ]
  },
  {
   "cell_type": "markdown",
   "id": "d19809b5",
   "metadata": {},
   "source": [
    "I had never done parallel coding in Python before this project, but I had done it in C in Dr. Butler's class. I needed to do some reading "
   ]
  },
  {
   "cell_type": "code",
   "execution_count": 54,
   "id": "888d1ce7",
   "metadata": {},
   "outputs": [],
   "source": [
    "spec = [\n",
    "    ('array', float32[:,:]),\n",
    "    ('value', float32),\n",
    "    ('value', float32),\n",
    "    ('value', int32),\n",
    "    ('value', int32),    \n",
    "]\n",
    "\n",
    "\n",
    "class args:\n",
    "    def __init__(self, points, strt, cnt):\n",
    "        self.pts=points\n",
    "        self.MAX = 0\n",
    "        self.MIN = 1.7976931348623157e+308\n",
    "        self.start = strt\n",
    "        self.ptcnt = cnt\n",
    "        \n",
    "@jit(types.Tuple((float32, float32))(float32[:,:],float32,float32,int32,int32))\n",
    "def shortest_numba(pts, max, min, start, ptcnt):\n",
    "    for i in range(start, ptcnt):\n",
    "        for j in range(i+1, ptcnt):\n",
    "            distance = (pts[i][0] - pts[j][0])**2 + (pts[i][1] - pts[j][1])**2 + (pts[i][2]- pts[j][2])**2\n",
    "            if max < distance:\n",
    "                max = distance\n",
    "            elif min  > distance:\n",
    "                min  = distance\n",
    "    min, max = min **0.5, max**0.5\n",
    "    print(max, min)    \n",
    "    return max, min"
   ]
  },
  {
   "cell_type": "code",
   "execution_count": 55,
   "id": "5ff2816c",
   "metadata": {},
   "outputs": [
    {
     "name": "stdout",
     "output_type": "stream",
     "text": [
      "Expected Min, Max: 8.705  16830.027\n",
      "\n",
      "16830.026500276224 8.70447314793969\n",
      "16830.02734375 8.704473495483398\n",
      "CPU times: user 1.06 s, sys: 0 ns, total: 1.06 s\n",
      "Wall time: 1.05 s\n"
     ]
    }
   ],
   "source": [
    "%%time\n",
    "seed, pts, corecnt, expected = setCase('T1')\n",
    "randlib.srand(seed)\n",
    "print(expected)\n",
    "points = np.empty((pts,3), dtype=np.double)\n",
    "for i in range(pts):\n",
    "    points[i]  = genrand3dpt(0, 10000) # call random points macro   \n",
    "test= args(points=points, strt=0, cnt=len(points))\n",
    "l, m = shortest_numba(np.float32(test.pts), np.float32(test.MAX), np.float32(test.MIN), np.int32(test.start), np.int32(test.ptcnt))"
   ]
  },
  {
   "cell_type": "code",
   "execution_count": null,
   "id": "bcf78d8a",
   "metadata": {},
   "outputs": [],
   "source": []
  }
 ],
 "metadata": {
  "kernelspec": {
   "display_name": "Python 3 (ipykernel)",
   "language": "python",
   "name": "python3"
  },
  "language_info": {
   "codemirror_mode": {
    "name": "ipython",
    "version": 3
   },
   "file_extension": ".py",
   "mimetype": "text/x-python",
   "name": "python",
   "nbconvert_exporter": "python",
   "pygments_lexer": "ipython3",
   "version": "3.9.7"
  }
 },
 "nbformat": 4,
 "nbformat_minor": 5
}
