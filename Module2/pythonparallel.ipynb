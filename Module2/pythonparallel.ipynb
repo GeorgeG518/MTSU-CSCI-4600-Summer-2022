{
 "cells": [
  {
   "cell_type": "markdown",
   "id": "c07ac694",
   "metadata": {},
   "source": []
  },
  {
   "cell_type": "code",
   "execution_count": 2,
   "id": "f9997c06",
   "metadata": {},
   "outputs": [],
   "source": [
    "from ctypes import CDLL\n",
    "randlib = CDLL(\"libc.so.6\")\n",
    "import time, sys\n",
    "import multiprocessing as mp\n",
    "\n",
    "# Look here for spoilers of what I used to speed up code\n",
    "import numpy as np\n",
    "from numba import jit, cuda\n",
    "\n",
    "def genrand3dpt(MIN, MAX):\n",
    "    X = (MAX-MIN)*(float(randlib.rand())/2147483647)+MIN\n",
    "    Y = (MAX-MIN)*(float(randlib.rand())/2147483647)+MIN\n",
    "    Z = (MAX-MIN)*(float(randlib.rand())/2147483647)+MIN\n",
    "    return X,Y,Z\n",
    "\n",
    "class point:\n",
    "    def __init__(self, x:float ,y: float, z: float):\n",
    "        self.x, self.y, self.z = x, y, z\n",
    "    \n",
    "def setCase(case):\n",
    "    if(case=='T1'):\n",
    "        seed = 7\n",
    "        pts = 100\n",
    "        expected = \"Expected Min, Max: 526.986 15183.808\\n\"\n",
    "    elif case=='T2':\n",
    "        seed = 7\n",
    "        pts = 1000\n",
    "        expected = \"Expected Min, Max: 70.299 15784.777\\n\"\n",
    "    elif case=='T3':\n",
    "        seed = 7\n",
    "        pts = 10000\n",
    "        expected = \"Expected Min, Max: 9.730 16509.943\\n\"\n",
    "    elif case=='T4':\n",
    "        seed = 7\n",
    "        pts = 30000\n",
    "        expected = \"Expected Min, Max:9.270 16643.182\\n\"\n",
    "    elif case=='T5':\n",
    "        seed = 7\n",
    "        pts = 40005\n",
    "        expected = \"Expected Min, Max: 8.705 16830.027\\n\"\n",
    "    return seed, pts, expected"
   ]
  },
  {
   "cell_type": "markdown",
   "id": "f7628d8b",
   "metadata": {},
   "source": [
    "# Parallelization, Calling C and Other Methods: Part 2 of the Hit Series \"Speeding Up My Code\""
   ]
  },
  {
   "cell_type": "markdown",
   "id": "d19809b5",
   "metadata": {},
   "source": [
    "I had never done parallel coding in Python before this project, but I had done it in C in Dr. Butler's class. I needed to do some reading "
   ]
  },
  {
   "cell_type": "code",
   "execution_count": null,
   "id": "888d1ce7",
   "metadata": {},
   "outputs": [],
   "source": []
  },
  {
   "cell_type": "code",
   "execution_count": 4,
   "id": "5ff2816c",
   "metadata": {},
   "outputs": [
    {
     "name": "stdout",
     "output_type": "stream",
     "text": [
      "Expected Min, Max: 526.986 15183.808\n",
      "\n",
      "CPU times: user 2.75 ms, sys: 379 µs, total: 3.13 ms\n",
      "Wall time: 1.58 ms\n"
     ]
    }
   ],
   "source": [
    "%%time\n",
    "seed, pts, expected = setCase('T1')\n",
    "randlib.srand(seed)\n",
    "print(expected)\n",
    "points = np.empty((pts,3), dtype=np.double)\n",
    "for i in range(pts):\n",
    "    points[i]  = genrand3dpt(0, 10000) # call random points macro   \n"
   ]
  },
  {
   "cell_type": "code",
   "execution_count": null,
   "id": "bcf78d8a",
   "metadata": {},
   "outputs": [],
   "source": [
    "\n",
    "\n",
    "@jit\n",
    "def shortest_numba(points, ptcnt):\n",
    "    loopMAX = 0\n",
    "    loopMIN = 1.7976931348623157e+308 # kinda big\n",
    "    for i in range(len(points)):\n",
    "        for j in range(i+1, ptcnt):\n",
    "            distance = (points[i][0] - points[j][0])**2 + (points[i][1] - points[j][1])**2 + (points[i][2]- points[j][2])**2\n",
    "            if loopMAX < distance:\n",
    "                loopMAX = distance\n",
    "            elif loopMIN > distance:\n",
    "                loopMIN = distance\n",
    "          \n",
    "    print(loopMIN**0.5, loopMAX**0.5)"
   ]
  }
 ],
 "metadata": {
  "kernelspec": {
   "display_name": "Python 3 (ipykernel)",
   "language": "python",
   "name": "python3"
  },
  "language_info": {
   "codemirror_mode": {
    "name": "ipython",
    "version": 3
   },
   "file_extension": ".py",
   "mimetype": "text/x-python",
   "name": "python",
   "nbconvert_exporter": "python",
   "pygments_lexer": "ipython3",
   "version": "3.9.7"
  }
 },
 "nbformat": 4,
 "nbformat_minor": 5
}
