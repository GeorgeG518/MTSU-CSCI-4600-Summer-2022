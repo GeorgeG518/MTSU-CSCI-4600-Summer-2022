{
 "cells": [
  {
   "cell_type": "code",
   "execution_count": 1,
   "id": "ef752c15",
   "metadata": {},
   "outputs": [],
   "source": [
    "import numpy as np"
   ]
  },
  {
   "cell_type": "markdown",
   "id": "09a43679",
   "metadata": {},
   "source": [
    "# Linear Algebra"
   ]
  },
  {
   "cell_type": "markdown",
   "id": "c8cadca7",
   "metadata": {},
   "source": [
    "To start the math unit, I am going to tackle my largest gap in knowledge: Linear Algebra. I attempted to take Linear Algebra but dropped the class. Luckily, my book https://pythonnumericalmethods.berkeley.edu/notebooks/chapter14.00-Linear-Algebra-and-Systems-of-Linear-Equations.html has a chapter dedicated to talking about it.\n",
    "\n",
    "I intend to just work my way through the chapters and take notes as I go."
   ]
  },
  {
   "cell_type": "markdown",
   "id": "095015e0",
   "metadata": {},
   "source": [
    "## Vectors\n",
    "Vectors are a 1 dimensional, n-long set of real numbers. Alternatively, they can be stated to be an n-tuple of the set of real numbers.\n",
    "\n",
    "Unless stated, you can assume that a vector is a column vector. \n",
    "\n",
    "You can transpose a vector to swap its major order i.e. turn a row vector into a column vector."
   ]
  },
  {
   "cell_type": "code",
   "execution_count": 7,
   "id": "6b8d4eb0",
   "metadata": {},
   "outputs": [
    {
     "name": "stdout",
     "output_type": "stream",
     "text": [
      "(1, 5)\n",
      "(5, 1)\n",
      "(5,)\n"
     ]
    }
   ],
   "source": [
    "vec_row = np.array([[1,2,3,4,5]])\n",
    "vec_col = np.array([[6],\n",
    "                  [7],\n",
    "                  [8],\n",
    "                  [9],\n",
    "                  [10]])\n",
    "vec_col_diff = np.array([1,2,3,4,5])\n",
    "print(vec_row.shape)\n",
    "print(vec_col.shape)\n",
    "print(vec_col_diff.shape)"
   ]
  },
  {
   "cell_type": "markdown",
   "id": "2fa70693",
   "metadata": {},
   "source": [
    "It is worth noting that the row vector has a shape of 1 x N, and the column vector has a shape of N x 1.\n",
    "\n",
    "vec_col_diff is worth pointing out because of its resemblance to vec_col,  but its shape is not the same.\n"
   ]
  },
  {
   "cell_type": "markdown",
   "id": "bffd3309",
   "metadata": {},
   "source": [
    "### Norms\n"
   ]
  }
 ],
 "metadata": {
  "kernelspec": {
   "display_name": "Python 3 (ipykernel)",
   "language": "python",
   "name": "python3"
  },
  "language_info": {
   "codemirror_mode": {
    "name": "ipython",
    "version": 3
   },
   "file_extension": ".py",
   "mimetype": "text/x-python",
   "name": "python",
   "nbconvert_exporter": "python",
   "pygments_lexer": "ipython3",
   "version": "3.9.7"
  }
 },
 "nbformat": 4,
 "nbformat_minor": 5
}
