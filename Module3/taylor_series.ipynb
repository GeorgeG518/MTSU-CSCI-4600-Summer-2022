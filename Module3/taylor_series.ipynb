{
 "cells": [
  {
   "cell_type": "code",
   "execution_count": 9,
   "metadata": {},
   "outputs": [],
   "source": [
    "import numpy as np\n",
    "import  sympy as sym\n",
    "\n",
    "from sympy import Symbol, Eq, sin, cos # for trig\n",
    "from sympy.solvers import solve\n",
    "from matplotlib import pyplot as plt\n",
    "x = Symbol('x')"
   ]
  },
  {
   "cell_type": "code",
   "execution_count": 66,
   "metadata": {},
   "outputs": [
    {
     "name": "stdout",
     "output_type": "stream",
     "text": [
      "33*x + 5*(x - 3)**2 - 40\n",
      "59\n"
     ]
    }
   ],
   "source": [
    "def factorial(iteration):\n",
    "    if(iteration==1 or iteration==0): return 1\n",
    "    else: return iteration*factorial(iteration-1)\n",
    "    \n",
    "def f(x):\n",
    "    return 5*x**2+3*x+5\n",
    "\n",
    "# TAYLOR SERIES\n",
    "# f(a)+ ( f'(a)/1! )(x-a) + (f''(a)/2!)(x-a)^2 + (f'''(a)/3!)(x-a)^3\n",
    "#\n",
    "# IN: a=point of taylorization\n",
    "# OUT: Returns taylor series function\n",
    "MAXTAYLOR=7\n",
    "eq = None\n",
    "def calcTaylor(a):\n",
    "    arrayofderivatives = [None for i in range(MAXTAYLOR)]\n",
    "    \n",
    "    \n",
    "    for n in range(MAXTAYLOR):\n",
    "        if(n == 0):\n",
    "            arrayofderivatives[n] = f(x)\n",
    "        else:\n",
    "            # TODO: Do some taylor series shenanigans\n",
    "            arrayofderivatives[n] = sym.diff(arrayofderivatives[n-1])\n",
    "            \n",
    "    atpoint=[]\n",
    "    for each in arrayofderivatives:\n",
    "        try:\n",
    "            calced=each.subs('x',a)\n",
    "        except AttributeError: # you've got an int\n",
    "            calced=each\n",
    "        atpoint.append(calced)\n",
    "             \n",
    "    sum_series=0\n",
    "    for i,each in enumerate(atpoint):\n",
    "        sum_series+=(each*(x-a)**i)/(factorial(i) )\n",
    "    return sum_series\n",
    "test = calcTaylor(3)\n",
    "print(test)\n",
    "print(test.subs('x',3))"
   ]
  }
 ],
 "metadata": {
  "kernelspec": {
   "display_name": "Python 3 (ipykernel)",
   "language": "python",
   "name": "python3"
  },
  "language_info": {
   "codemirror_mode": {
    "name": "ipython",
    "version": 3
   },
   "file_extension": ".py",
   "mimetype": "text/x-python",
   "name": "python",
   "nbconvert_exporter": "python",
   "pygments_lexer": "ipython3",
   "version": "3.8.3"
  }
 },
 "nbformat": 4,
 "nbformat_minor": 4
}
