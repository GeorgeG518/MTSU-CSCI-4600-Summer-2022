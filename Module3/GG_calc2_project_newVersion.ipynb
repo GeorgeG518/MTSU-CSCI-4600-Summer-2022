{
 "cells": [
  {
   "cell_type": "markdown",
   "metadata": {},
   "source": [
    "# Numerical Integration\n",
    "This is actually a project I did way back in Calculus 2 as a Freshman. It was one of my first codingg projects. I decided to throw it into the math unit just as a reference on how this all can be done programatically.\n",
    "\n",
    "As a whole, this thing could probably use some cleanup as it was code written by a Freshman that didn't know any better. Some of it is kind of \"head scratchy\" and I would like to avoid using that symbolic math stuff"
   ]
  },
  {
   "cell_type": "code",
   "execution_count": 5,
   "metadata": {},
   "outputs": [],
   "source": [
    "# To achieve a better workflow, I seperated the import statements to here\n",
    "#\n",
    "#\n",
    "import sympy as sym\n",
    "from sympy import Symbol, sin, cos # for trig\n",
    "from sympy.solvers import solve\n",
    "from sympy.utilities.lambdify import lambdify # for shortening lines 41-43\n",
    "import numpy as np # for arange method\n",
    "from matplotlib import pyplot as plt\n",
    "from scipy.integrate import simps\n",
    "x = Symbol('x')"
   ]
  },
  {
   "cell_type": "code",
   "execution_count": 6,
   "metadata": {},
   "outputs": [],
   "source": [
    "# GG2022: Probably can be a lambda\n",
    "def f2(x): # Changing this changes function integrated\n",
    "    return x**3 + 3*x"
   ]
  },
  {
   "cell_type": "code",
   "execution_count": 7,
   "metadata": {},
   "outputs": [
    {
     "name": "stdout",
     "output_type": "stream",
     "text": [
      "Enter the beginning of the interval: 3\n",
      "Enter the end of the interval: 6\n",
      "Enter the number of subintervals: 1000\n",
      "\n",
      "The function to be integrated is: x**3 + 3*x \n",
      "\n",
      "Midpoint Sum: The function is approximately equal to 344.2500\n",
      "The approximate error is: 4.05e-05 \n",
      "\n",
      "Trapezoidal sum: The function is approximately equal to 344.2501\n",
      "The approximate error is: 8.1e-05 \n",
      "\n",
      "Simpson's Rule: The function is approximately equal to 344.2500\n",
      "The approximate error is: 0.0 \n",
      "\n"
     ]
    },
    {
     "data": {
      "image/png": "[encoded data removed]",
      "text/plain": [
       "<Figure size 432x288 with 2 Axes>"
      ]
     },
     "metadata": {
      "needs_background": "light"
     },
     "output_type": "display_data"
    }
   ],
   "source": [
    "def Midpoint(f, step, a, b, n): # calculates by midpoint rule\n",
    "    integral_value = 0\n",
    "    x_points = np.arange(a,b,step)\n",
    "    for array_index in x_points[:]:\n",
    "        integral_value += (f2(0.5*(array_index+array_index+step)))\n",
    "    integral_value *=step\n",
    "  \n",
    "    print('Midpoint Sum: The function is approximately equal to',format(integral_value, '.4f'))\n",
    "\n",
    "def calculate_derivatives(rule, f2):\n",
    "    # All this stuff here: Use a different differentiation method \n",
    "    if rule == 'T':\n",
    "        derivative = sym.diff(f2(x),x,x)\n",
    "    elif rule == 'M':\n",
    "        derivative = sym.diff(f2(x),x,x) # second derivative for trap or mid\n",
    "    else:\n",
    "        derivative = sym.diff(f2(x),x,x,x,x) # fourth derivative for simps\n",
    "    return derivative\n",
    "\n",
    "def calculate_error(derivative, a ,b, n, x, method):# FInd critical numbers, plug in, get max, plug into error\n",
    "    new_derivative = sym.diff(derivative,x)\n",
    "    try:\n",
    "        critical_numbers = [sym.nsolve(new_derivative,a,real = True)]\n",
    "    except ValueError:\n",
    "        critical_numbers = [0]\n",
    "    except KeyError:\n",
    "        critical_numbers = [0]\n",
    "    except ZeroDivisionError:\n",
    "        print('The error could not be calculated. I am sorry. :( ''\\n') # For when an integral is breaking everything\n",
    "        return\n",
    "    except:\n",
    "        critical_numbers = [sym.nsolve(new_derivative,a, real=True)]\n",
    "    critical_numbers.append(a)\n",
    "    critical_numbers.append(b) # Previous two lines put in endpoints into critical numbers list\n",
    "    d = lambdify(x,derivative, 'sympy')\n",
    "    critical_numbers = [x for x in critical_numbers if not(x<a or x>b)] #Removes critical numbers not in [a,b]\n",
    "    critical_numbers = [abs(d(x)) for x in critical_numbers] # Absolute values all indices and plugs them into respective derivative for calculating maximum\n",
    "    K = max(critical_numbers) # Finds maximum of them\n",
    "    if method == 'M': # letters determine which error calculation formula to use\n",
    "        error = (K*((b-a)**3)) / (24*n**2)\n",
    "        print('The approximate error is:',error, '\\n')\n",
    "    elif method == 'T':\n",
    "        error = (K*((b-a)**3)) / (12*n**2)\n",
    "        print('The approximate error is:',error, '\\n')\n",
    "    elif method == 'Simpson':\n",
    "        error = (K*((b-a)**5)) / (180*n**4)\n",
    "        print('The approximate error is:',error, '\\n')\n",
    "\n",
    "\n",
    "def Trapezoidal(f, step, a, b, n): # Calculates by Trapezoidal rule\n",
    "    outside = 0.5 * step # (b-a)/n\n",
    "    x_points = np.arange(a,b,step)\n",
    "    integral_value = f2(a)\n",
    "    for array_index in x_points[1:]:\n",
    "        integral_value += (2*f2(array_index))\n",
    "    integral_value += f2(b)\n",
    "    integral_value *= outside\n",
    "    \n",
    "    print('Trapezoidal sum: The function is approximately equal to', format(integral_value, '.4f'))\n",
    "\n",
    "def Simpson(f2, step, a, b, n): #Extremely accurate\n",
    "    outside = step/3\n",
    "    x_points = np.arange(a,b,step)\n",
    "    integral_value = f2(a) # x sub zero\n",
    "    ordinate = 1\n",
    "    for array_index in x_points[1:]:\n",
    "        if ordinate%2==0:\n",
    "           integral_value += (2*f2(array_index))#multiply by 2 if ordinate number is even\n",
    "           ordinate +=1\n",
    "        else:\n",
    "            integral_value += (4*f2(array_index))#multiply by 4 if ordinate number is odd\n",
    "            ordinate +=1\n",
    "    integral_value += f2(b)\n",
    "    integral_value *= outside\n",
    "    \n",
    "    print(\"Simpson's Rule: The function is approximately equal to\", format(integral_value, '.4f'))\n",
    "\n",
    "def f(x):\n",
    "    return x**2\n",
    "\n",
    "def plot(a, b, n,step, f2):\n",
    "    # Midpoint\n",
    "    xm = np.arange(a,b,step)\n",
    "    ym = [f2(x) for x in xm]\n",
    "    plt.subplot(1,3,1)\n",
    "    plt.plot(xm,ym,'b') # 'b' makes it blue!\n",
    "    x_mid = (xm[:-1] + xm[1:])/2 # Midpoints\n",
    "    y_mid = f2(x_mid)\n",
    "    plt.plot(x_mid,y_mid,'b.',markersize=2)\n",
    "    plt.bar(x_mid,y_mid,width=step,alpha=0.2,edgecolor='b')\n",
    "    plt.margins(a,b)\n",
    "    plt.title('Midpoint Riemann')\n",
    "    \n",
    "    # Trapezoidal\n",
    "    plt.subplot(1,3,2)\n",
    "    plt.plot(xm,f2(xm),'b')\n",
    "    for i in range(n-1):\n",
    "        xs = [xm[i],xm[i],xm[i+1],xm[i+1]]\n",
    "        ys = [0,ym[i],ym[i+1],0]\n",
    "        plt.fill(xs,ys,'r',edgecolor='r',alpha=0.2)\n",
    "    plt.title('Trapezoidal Rule')\n",
    "    \"\"\"\n",
    "    plt.subplot(1,3, 3)\n",
    "    plt.plot(xm ,ym, 'b')\n",
    "    plt.title(\"¯\\_(.  _.)_/¯\")\n",
    "    \"\"\"\n",
    "    plt.show()\n",
    "    \n",
    "def main():\n",
    "    beginning_interval = float(input('Enter the beginning of the interval: '))\n",
    "    ending_interval = float(input('Enter the end of the interval: '))\n",
    "    number_of_subintervals = int(input('Enter the number of subintervals: '))\n",
    "    while not(number_of_subintervals%2 ==0):\n",
    "        print('Subintervals must be even.')\n",
    "        number_of_subintervals = int(input('Enter the number of subintervals: '))\n",
    "    print('\\n''The function to be integrated is:',str(f2(x)),'\\n')\n",
    "    # Collecting intervals, n, and step size\n",
    "    a = beginning_interval\n",
    "    b = ending_interval\n",
    "    n = number_of_subintervals\n",
    "    step = ((b-a)/ number_of_subintervals)\n",
    "    # Reassigning for clarity sake\n",
    "    f = f2(step)\n",
    "    \n",
    "    Midpoint(f2, step, a, b, n)\n",
    "    derivative = calculate_derivatives('M', f2)\n",
    "    error = calculate_error(derivative, a, b, n, x, 'M')\n",
    "    \n",
    "    Trapezoidal(f2, step, a, b, n)\n",
    "    derivative = calculate_derivatives('T', f2)\n",
    "    error = calculate_error(derivative, a, b, n, x, 'T')\n",
    "                            \n",
    "    Simpson(f2, step, a, b, n)\n",
    "    derivative = calculate_derivatives('Simpson', f2)\n",
    "    error = calculate_error(derivative, a, b, n, x, 'Simpson')\n",
    "    # The following code has been adapted from math.ubc.ca\n",
    "    plot(a, b, n, step, f2)\n",
    "    \n",
    "main()\n"
   ]
  },
  {
   "cell_type": "code",
   "execution_count": 1,
   "metadata": {},
   "outputs": [
    {
     "ename": "SyntaxError",
     "evalue": "invalid syntax (2047566745.py, line 6)",
     "output_type": "error",
     "traceback": [
      "\u001b[1;36m  Input \u001b[1;32mIn [1]\u001b[1;36m\u001b[0m\n\u001b[1;33m    a =\u001b[0m\n\u001b[1;37m         ^\u001b[0m\n\u001b[1;31mSyntaxError\u001b[0m\u001b[1;31m:\u001b[0m invalid syntax\n"
     ]
    }
   ],
   "source": [
    "# Given three points, find the ax**2 +bx+c form that goes through the three\n",
    "\n",
    "# GG2022: I never finished this, but this sounds like I can use that Newton interpolation. My study\n",
    "# is already coming in handy\n",
    "def calcParabola(p1,p2,p3):\n",
    "    a =  \n",
    "    b =\n",
    "    c =\n",
    "    "
   ]
  },
  {
   "cell_type": "code",
   "execution_count": null,
   "metadata": {},
   "outputs": [],
   "source": []
  }
 ],
 "metadata": {
  "kernelspec": {
   "display_name": "Python 3 (ipykernel)",
   "language": "python",
   "name": "python3"
  },
  "language_info": {
   "codemirror_mode": {
    "name": "ipython",
    "version": 3
   },
   "file_extension": ".py",
   "mimetype": "text/x-python",
   "name": "python",
   "nbconvert_exporter": "python",
   "pygments_lexer": "ipython3",
   "version": "3.8.3"
  }
 },
 "nbformat": 4,
 "nbformat_minor": 4
}
