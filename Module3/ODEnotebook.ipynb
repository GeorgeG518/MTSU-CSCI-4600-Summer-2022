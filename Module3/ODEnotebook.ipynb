{
 "cells": [
  {
   "cell_type": "code",
   "execution_count": 1,
   "id": "0c620e85",
   "metadata": {},
   "outputs": [],
   "source": [
    "# Import the required modules\n",
    "import numpy as np\n",
    "\n",
    "import sympy as sp\n",
    "sp.init_printing(use_latex=True)\n",
    "\n",
    "from scipy.integrate import odeint\n",
    "\n",
    "import matplotlib.pyplot as plt\n",
    "%matplotlib inline"
   ]
  },
  {
   "cell_type": "markdown",
   "id": "a0031074",
   "metadata": {},
   "source": [
    "# Differential Equations Introduction"
   ]
  },
  {
   "cell_type": "markdown",
   "id": "29044c44",
   "metadata": {},
   "source": [
    "I have not taken a Differential Equations Class, but I have read about them in a few books, seen them in my work, and had my engineering friends say how cool they are. I've taken the liberty over the past few days to do some reading about what they are and the general ways of solving them. \n",
    "\n",
    "I watched one video that defined them as \"any equation that has at least one derivative\". There are two primary kinds of differential equations that I have heard of: \n",
    " * Partial Differential Equations\n",
    " * Ordinary Differential Equations\n",
    " \n",
    "I will only be covering Ordinary because Partials get very complicated very quickly. For most of my work, I will be using three sources: \n",
    " * Python Programming and Numerical Methods\n",
    " * coms-reu/bootcamp/python/Part 3-B.ipynb \\[mtsu notebook->https://github.com/coms-reu/boot-camp/blob/main/python/Part%203-B.ipynb\\] \n",
    " * Ordinary Differential Equations by Tennenbaum and Pollard\n",
    " \n",
    "For the first major bit of this notebook, I won't be coding anything besides LaTeX and markdown. My intention is to have a basic understanding of DEs before I just start running code.\n",
    "\n",
    "\n",
    "Let's get into it."
   ]
  },
  {
   "cell_type": "markdown",
   "id": "fdc9120e",
   "metadata": {},
   "source": [
    "Consider this differential equation:\n",
    "\n",
    "\\begin{equation}\n",
    "\\frac{dy}{dx} +y=x\n",
    "\\end{equation}\n",
    "\n",
    "We can say a few things about it. First, we can say that Y is a *dependent variable* because it is being differentiated with resepect to x. X is an independent variable because it can stand alone as it's not being differentiated relative to something.\n",
    "\n",
    "I can also say that it is a first order diffential equation because the highest derivative appearing in the equation is just a first one.\n",
    "\n",
    "Here is another example:\n",
    "\n",
    "\\begin{equation}\n",
    "\\frac{dx}{dt} +x=2cos(t)\n",
    "\\end{equation}\n",
    "\n",
    "I can summarize it by saying it is a first order differential equation of the dependent variable x and independent variable t"
   ]
  },
  {
   "cell_type": "markdown",
   "id": "18d1a5e9",
   "metadata": {},
   "source": [
    "# Solution of  a Differential Equation"
   ]
  },
  {
   "cell_type": "markdown",
   "id": "0d1e13e0",
   "metadata": {},
   "source": [
    "Some differential equationsc an be either very difficult or impossible to solve. There is a *small* class of DEs that can be, however. When I say solve, I mean an exact solution. More often, you find approximations of solutions.\n",
    "\n",
    "Typically, this is called solving differential equations Numerically. There are two methods that come to my mind\n",
    "*  Euler's Method\n",
    "*  Runger-Kutta Method\n",
    "\n",
    "Unlike in something like a quadratic equation where you find specific roots...when you solve a differential equation you are really finding a function that satisifies the equation. Your answer to a DE may not be a specific coordinate or something like that. It will be a bit higher level than that.\n"
   ]
  },
  {
   "cell_type": "markdown",
   "id": "9452c585",
   "metadata": {},
   "source": [
    "Let's revisit a function for viewing this idea:\n",
    "\n",
    "Ex. Verify that x = x(t) = cos(t)+sin(t) is a solution of\n",
    "\n",
    "\\begin{equation}\n",
    "\\frac{dx}{dt} +x=2cos(t)\n",
    "\\end{equation}\n",
    "\n",
    "The way you would start this is taking the derivative of x(t)=cos(t)+sin(t). \n",
    "\n",
    "\\begin{equation}\n",
    "\\frac{dx}{dt}= -sin(t) + cos(t)\n",
    "\\end{equation}\n",
    "\n",
    "You can take this and replace the derivative notation and x respectively to get:\n",
    "\n",
    "\\begin{equation}\n",
    "\\frac{dx}{dt} +x = -sin(t) + cos(t) + cos(t)+sin(t) \\\\\n",
    "= -sin(t) + cos(t) + cos(t)+sin(t)\\\\\n",
    "= cos(t) + cos(t)\\\\\n",
    "= 2cos(t)\n",
    "\\end{equation}\n",
    "\n",
    "As you can see, that result equals our original equation. It's essential that I understand how this all works.\n",
    "\n",
    "We could also check if cos(t) + sin(t) + e^-t is a solution.\n",
    "\n",
    "Let's use the same process as earlier, starting with a derivative:\n",
    "\n",
    "\\begin{equation}\n",
    "\\frac{dx}{dt}= -sin(t) + cos(t) + -e^{-t}\n",
    "\\end{equation}\n",
    "\n",
    "Plugging it back in:\n",
    "\n",
    "\\begin{equation}\n",
    "\\frac{dx}{dt} +x =  -sin(t) + cos(t) + -e^{-t} + sin(t) + cos(t) + e^{-t} \\\\\n",
    "= -sin(t) +sin(t) + cos(t) + cos(t) -e^{-t}+ e^{-t}\\\\\n",
    "= cos(t) + cos(t)\\\\\n",
    "= 2cos(t)\n",
    "\\end{equation}\n",
    "\n",
    "As you can probably deduce, no matter what I put in front of that e will result in a 2cost(t). For this reason we can define\n",
    "\\begin{equation}\n",
    "x=cos(t)+sin(t)-Ce^{-t}\n",
    "\\end{equation}\n",
    "as the *general solution*. General solutions let you find particular solutions\n",
    "\n",
    "Ex. Find a solution such that x(0)=-1\n",
    "\\begin{equation}\n",
    "x(0)= cos(0)+sin(0)+Ce^0 = -1 \\\\\n",
    "1+C=-1, C=-2\n",
    "\\end{equation}\n",
    "\n",
    "I wrote this simple code below to show how changing the C affects particular solutions. It's quite interesting to see how they all seem to \"synchronize\""
   ]
  },
  {
   "cell_type": "code",
   "execution_count": 18,
   "id": "98d931ee",
   "metadata": {},
   "outputs": [
    {
     "data": {
      "image/png": "[encoded data removed]",
      "text/plain": [
       "<Figure size 432x288 with 1 Axes>"
      ]
     },
     "metadata": {
      "needs_background": "light"
     },
     "output_type": "display_data"
    }
   ],
   "source": [
    "pointsGENd=1000\n",
    "xaxis=np.linspace(0,10, pointsGENd)\n",
    "\n",
    "c1=np.zeros(pointsGENd)\n",
    "c2=np.zeros(pointsGENd)\n",
    "c3=np.zeros(pointsGENd)\n",
    "for i,each in enumerate(xaxis):\n",
    "    c1[i] = np.cos(each)+np.sin(each) + -2* (2.718281828459045**(-each) )\n",
    "    c2[i] = np.cos(each)+np.sin(each) + 1*( 2.718281828459045**(-each) )\n",
    "    c3[i] = np.cos(each)+np.sin(each) + 3* (2.718281828459045**(-each) )\n",
    "\n",
    "fig, ax = plt.subplots()\n",
    "ax.plot(xaxis, c1, linewidth=2.0)\n",
    "ax.plot(xaxis, c2, linewidth=2.0)\n",
    "ax.plot(xaxis, c3, linewidth=2.0)\n",
    "plt.show()"
   ]
  },
  {
   "cell_type": "markdown",
   "id": "e62cc80f",
   "metadata": {},
   "source": [
    "Solutions of a DE may not necessarily be unique. When 'Solving' a DE, it means to find all the solutions i.e. the general solution.\n",
    "\n",
    "\n",
    "\n"
   ]
  }
 ],
 "metadata": {
  "kernelspec": {
   "display_name": "Python 3 (ipykernel)",
   "language": "python",
   "name": "python3"
  },
  "language_info": {
   "codemirror_mode": {
    "name": "ipython",
    "version": 3
   },
   "file_extension": ".py",
   "mimetype": "text/x-python",
   "name": "python",
   "nbconvert_exporter": "python",
   "pygments_lexer": "ipython3",
   "version": "3.8.3"
  }
 },
 "nbformat": 4,
 "nbformat_minor": 5
}
